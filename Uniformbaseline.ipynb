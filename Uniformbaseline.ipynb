{
  "nbformat": 4,
  "nbformat_minor": 0,
  "metadata": {
    "colab": {
      "name": "Uniformbaseline.ipynb",
      "provenance": [],
      "authorship_tag": "ABX9TyOoU5OWIe/omeyhetJqRoES",
      "include_colab_link": true
    },
    "kernelspec": {
      "name": "python3",
      "display_name": "Python 3"
    },
    "language_info": {
      "name": "python"
    }
  },
  "cells": [
    {
      "cell_type": "markdown",
      "metadata": {
        "id": "view-in-github",
        "colab_type": "text"
      },
      "source": [
        "<a href=\"https://colab.research.google.com/github/Jcnok/MELI_DATA_CHALLENGE_2021/blob/main/Uniformbaseline.ipynb\" target=\"_parent\"><img src=\"https://colab.research.google.com/assets/colab-badge.svg\" alt=\"Open In Colab\"/></a>"
      ]
    },
    {
      "cell_type": "code",
      "metadata": {
        "id": "7Vf97lnMfZmJ"
      },
      "source": [
        ""
      ],
      "execution_count": null,
      "outputs": []
    },
    {
      "cell_type": "markdown",
      "metadata": {
        "id": "5rgEJGu_fhfi"
      },
      "source": [
        "# Criando um modelo base"
      ]
    },
    {
      "cell_type": "code",
      "metadata": {
        "id": "92mnPEi2flAO"
      },
      "source": [
        "import pandas as pd\n",
        "import numpy as np\n",
        "from tqdm import tqdm\n",
        "from numpy import cumsum\n",
        "import os"
      ],
      "execution_count": 2,
      "outputs": []
    },
    {
      "cell_type": "code",
      "metadata": {
        "colab": {
          "base_uri": "https://localhost:8080/"
        },
        "id": "YYJq_CPEfyb_",
        "outputId": "8ff343f7-d385-44fe-f24c-4f091c48b87c"
      },
      "source": [
        "from google.colab import drive\n",
        "drive.mount('/content/drive')"
      ],
      "execution_count": 3,
      "outputs": [
        {
          "output_type": "stream",
          "text": [
            "Mounted at /content/drive\n"
          ],
          "name": "stdout"
        }
      ]
    },
    {
      "cell_type": "code",
      "metadata": {
        "id": "fnxi3wbSf_Y2"
      },
      "source": [
        "#Acesso ao diretório de estudo do drive\n",
        "os.chdir('/content/drive/MyDrive/Colab_Notebooks/comp_ML')"
      ],
      "execution_count": 4,
      "outputs": []
    },
    {
      "cell_type": "code",
      "metadata": {
        "id": "GPp6ywpXgdGs"
      },
      "source": [
        "train = pd.read_csv('treino.csv') #Carregando o conjunto de amostra"
      ],
      "execution_count": 5,
      "outputs": []
    },
    {
      "cell_type": "code",
      "metadata": {
        "colab": {
          "base_uri": "https://localhost:8080/",
          "height": 35
        },
        "id": "mqhryUJ8gkp5",
        "outputId": "28b0067f-c2a4-420b-e16a-fdfb2aeb2e89"
      },
      "source": [
        "train.date.min() # menor data do conjunto"
      ],
      "execution_count": 6,
      "outputs": [
        {
          "output_type": "execute_result",
          "data": {
            "application/vnd.google.colaboratory.intrinsic+json": {
              "type": "string"
            },
            "text/plain": [
              "'2021-02-01'"
            ]
          },
          "metadata": {
            "tags": []
          },
          "execution_count": 6
        }
      ]
    },
    {
      "cell_type": "code",
      "metadata": {
        "colab": {
          "base_uri": "https://localhost:8080/",
          "height": 35
        },
        "id": "lXVGBmBQgq65",
        "outputId": "37c4e3ee-bbbe-43a1-c956-86b83b670aa7"
      },
      "source": [
        "train.date.max() # Maior data do conjunto"
      ],
      "execution_count": 7,
      "outputs": [
        {
          "output_type": "execute_result",
          "data": {
            "application/vnd.google.colaboratory.intrinsic+json": {
              "type": "string"
            },
            "text/plain": [
              "'2021-03-31'"
            ]
          },
          "metadata": {
            "tags": []
          },
          "execution_count": 7
        }
      ]
    },
    {
      "cell_type": "code",
      "metadata": {
        "colab": {
          "base_uri": "https://localhost:8080/",
          "height": 419
        },
        "id": "QoRIjwNHgwH4",
        "outputId": "7851d402-b2e7-4c99-aa3d-adea6b8a78ea"
      },
      "source": [
        "data_val = train.loc[(train.date >'2021-03-01')] # Separando os ultimos 30 dias para validadação (conjunto de validação)\n",
        "data_val"
      ],
      "execution_count": 8,
      "outputs": [
        {
          "output_type": "execute_result",
          "data": {
            "text/html": [
              "<div>\n",
              "<style scoped>\n",
              "    .dataframe tbody tr th:only-of-type {\n",
              "        vertical-align: middle;\n",
              "    }\n",
              "\n",
              "    .dataframe tbody tr th {\n",
              "        vertical-align: top;\n",
              "    }\n",
              "\n",
              "    .dataframe thead th {\n",
              "        text-align: right;\n",
              "    }\n",
              "</style>\n",
              "<table border=\"1\" class=\"dataframe\">\n",
              "  <thead>\n",
              "    <tr style=\"text-align: right;\">\n",
              "      <th></th>\n",
              "      <th>Unnamed: 0</th>\n",
              "      <th>sku</th>\n",
              "      <th>date</th>\n",
              "      <th>sold_quantity</th>\n",
              "      <th>current_price</th>\n",
              "      <th>currency</th>\n",
              "      <th>listing_type</th>\n",
              "      <th>shipping_logistic_type</th>\n",
              "      <th>shipping_payment</th>\n",
              "      <th>minutes_active</th>\n",
              "    </tr>\n",
              "  </thead>\n",
              "  <tbody>\n",
              "    <tr>\n",
              "      <th>29</th>\n",
              "      <td>2912</td>\n",
              "      <td>78385</td>\n",
              "      <td>2021-03-02</td>\n",
              "      <td>3</td>\n",
              "      <td>53.90</td>\n",
              "      <td>REA</td>\n",
              "      <td>premium</td>\n",
              "      <td>fulfillment</td>\n",
              "      <td>paid_shipping</td>\n",
              "      <td>1440.0</td>\n",
              "    </tr>\n",
              "    <tr>\n",
              "      <th>30</th>\n",
              "      <td>2913</td>\n",
              "      <td>78385</td>\n",
              "      <td>2021-03-03</td>\n",
              "      <td>1</td>\n",
              "      <td>53.90</td>\n",
              "      <td>REA</td>\n",
              "      <td>premium</td>\n",
              "      <td>fulfillment</td>\n",
              "      <td>paid_shipping</td>\n",
              "      <td>1440.0</td>\n",
              "    </tr>\n",
              "    <tr>\n",
              "      <th>31</th>\n",
              "      <td>2914</td>\n",
              "      <td>78385</td>\n",
              "      <td>2021-03-04</td>\n",
              "      <td>4</td>\n",
              "      <td>53.90</td>\n",
              "      <td>REA</td>\n",
              "      <td>premium</td>\n",
              "      <td>fulfillment</td>\n",
              "      <td>paid_shipping</td>\n",
              "      <td>1440.0</td>\n",
              "    </tr>\n",
              "    <tr>\n",
              "      <th>32</th>\n",
              "      <td>2915</td>\n",
              "      <td>78385</td>\n",
              "      <td>2021-03-05</td>\n",
              "      <td>4</td>\n",
              "      <td>53.90</td>\n",
              "      <td>REA</td>\n",
              "      <td>premium</td>\n",
              "      <td>fulfillment</td>\n",
              "      <td>paid_shipping</td>\n",
              "      <td>1440.0</td>\n",
              "    </tr>\n",
              "    <tr>\n",
              "      <th>33</th>\n",
              "      <td>2916</td>\n",
              "      <td>78385</td>\n",
              "      <td>2021-03-06</td>\n",
              "      <td>2</td>\n",
              "      <td>53.90</td>\n",
              "      <td>REA</td>\n",
              "      <td>premium</td>\n",
              "      <td>fulfillment</td>\n",
              "      <td>paid_shipping</td>\n",
              "      <td>1440.0</td>\n",
              "    </tr>\n",
              "    <tr>\n",
              "      <th>...</th>\n",
              "      <td>...</td>\n",
              "      <td>...</td>\n",
              "      <td>...</td>\n",
              "      <td>...</td>\n",
              "      <td>...</td>\n",
              "      <td>...</td>\n",
              "      <td>...</td>\n",
              "      <td>...</td>\n",
              "      <td>...</td>\n",
              "      <td>...</td>\n",
              "    </tr>\n",
              "    <tr>\n",
              "      <th>1116</th>\n",
              "      <td>165355</td>\n",
              "      <td>352804</td>\n",
              "      <td>2021-03-27</td>\n",
              "      <td>0</td>\n",
              "      <td>26.96</td>\n",
              "      <td>REA</td>\n",
              "      <td>premium</td>\n",
              "      <td>fulfillment</td>\n",
              "      <td>paid_shipping</td>\n",
              "      <td>0.0</td>\n",
              "    </tr>\n",
              "    <tr>\n",
              "      <th>1117</th>\n",
              "      <td>165356</td>\n",
              "      <td>352804</td>\n",
              "      <td>2021-03-28</td>\n",
              "      <td>0</td>\n",
              "      <td>26.96</td>\n",
              "      <td>REA</td>\n",
              "      <td>premium</td>\n",
              "      <td>fulfillment</td>\n",
              "      <td>paid_shipping</td>\n",
              "      <td>0.0</td>\n",
              "    </tr>\n",
              "    <tr>\n",
              "      <th>1118</th>\n",
              "      <td>165357</td>\n",
              "      <td>352804</td>\n",
              "      <td>2021-03-29</td>\n",
              "      <td>0</td>\n",
              "      <td>26.96</td>\n",
              "      <td>REA</td>\n",
              "      <td>premium</td>\n",
              "      <td>fulfillment</td>\n",
              "      <td>paid_shipping</td>\n",
              "      <td>0.0</td>\n",
              "    </tr>\n",
              "    <tr>\n",
              "      <th>1119</th>\n",
              "      <td>165358</td>\n",
              "      <td>352804</td>\n",
              "      <td>2021-03-30</td>\n",
              "      <td>0</td>\n",
              "      <td>26.96</td>\n",
              "      <td>REA</td>\n",
              "      <td>premium</td>\n",
              "      <td>fulfillment</td>\n",
              "      <td>paid_shipping</td>\n",
              "      <td>0.0</td>\n",
              "    </tr>\n",
              "    <tr>\n",
              "      <th>1120</th>\n",
              "      <td>165359</td>\n",
              "      <td>352804</td>\n",
              "      <td>2021-03-31</td>\n",
              "      <td>0</td>\n",
              "      <td>26.96</td>\n",
              "      <td>REA</td>\n",
              "      <td>premium</td>\n",
              "      <td>fulfillment</td>\n",
              "      <td>paid_shipping</td>\n",
              "      <td>0.0</td>\n",
              "    </tr>\n",
              "  </tbody>\n",
              "</table>\n",
              "<p>570 rows × 10 columns</p>\n",
              "</div>"
            ],
            "text/plain": [
              "      Unnamed: 0     sku  ... shipping_payment  minutes_active\n",
              "29          2912   78385  ...    paid_shipping          1440.0\n",
              "30          2913   78385  ...    paid_shipping          1440.0\n",
              "31          2914   78385  ...    paid_shipping          1440.0\n",
              "32          2915   78385  ...    paid_shipping          1440.0\n",
              "33          2916   78385  ...    paid_shipping          1440.0\n",
              "...          ...     ...  ...              ...             ...\n",
              "1116      165355  352804  ...    paid_shipping             0.0\n",
              "1117      165356  352804  ...    paid_shipping             0.0\n",
              "1118      165357  352804  ...    paid_shipping             0.0\n",
              "1119      165358  352804  ...    paid_shipping             0.0\n",
              "1120      165359  352804  ...    paid_shipping             0.0\n",
              "\n",
              "[570 rows x 10 columns]"
            ]
          },
          "metadata": {
            "tags": []
          },
          "execution_count": 8
        }
      ]
    },
    {
      "cell_type": "code",
      "metadata": {
        "colab": {
          "base_uri": "https://localhost:8080/",
          "height": 419
        },
        "id": "poJB6gK8g1iY",
        "outputId": "873a7bb7-34f3-4622-f56a-775138b9c10d"
      },
      "source": [
        "data_train = train.loc[(train.date <= '2021-03-01')] # Usando o resto para o conjunto de treino\n",
        "data_train"
      ],
      "execution_count": 9,
      "outputs": [
        {
          "output_type": "execute_result",
          "data": {
            "text/html": [
              "<div>\n",
              "<style scoped>\n",
              "    .dataframe tbody tr th:only-of-type {\n",
              "        vertical-align: middle;\n",
              "    }\n",
              "\n",
              "    .dataframe tbody tr th {\n",
              "        vertical-align: top;\n",
              "    }\n",
              "\n",
              "    .dataframe thead th {\n",
              "        text-align: right;\n",
              "    }\n",
              "</style>\n",
              "<table border=\"1\" class=\"dataframe\">\n",
              "  <thead>\n",
              "    <tr style=\"text-align: right;\">\n",
              "      <th></th>\n",
              "      <th>Unnamed: 0</th>\n",
              "      <th>sku</th>\n",
              "      <th>date</th>\n",
              "      <th>sold_quantity</th>\n",
              "      <th>current_price</th>\n",
              "      <th>currency</th>\n",
              "      <th>listing_type</th>\n",
              "      <th>shipping_logistic_type</th>\n",
              "      <th>shipping_payment</th>\n",
              "      <th>minutes_active</th>\n",
              "    </tr>\n",
              "  </thead>\n",
              "  <tbody>\n",
              "    <tr>\n",
              "      <th>0</th>\n",
              "      <td>2883</td>\n",
              "      <td>78385</td>\n",
              "      <td>2021-02-01</td>\n",
              "      <td>3</td>\n",
              "      <td>53.90</td>\n",
              "      <td>REA</td>\n",
              "      <td>premium</td>\n",
              "      <td>fulfillment</td>\n",
              "      <td>paid_shipping</td>\n",
              "      <td>1440.000000</td>\n",
              "    </tr>\n",
              "    <tr>\n",
              "      <th>1</th>\n",
              "      <td>2884</td>\n",
              "      <td>78385</td>\n",
              "      <td>2021-02-02</td>\n",
              "      <td>2</td>\n",
              "      <td>53.90</td>\n",
              "      <td>REA</td>\n",
              "      <td>premium</td>\n",
              "      <td>fulfillment</td>\n",
              "      <td>paid_shipping</td>\n",
              "      <td>1440.000000</td>\n",
              "    </tr>\n",
              "    <tr>\n",
              "      <th>2</th>\n",
              "      <td>2885</td>\n",
              "      <td>78385</td>\n",
              "      <td>2021-02-03</td>\n",
              "      <td>1</td>\n",
              "      <td>53.90</td>\n",
              "      <td>REA</td>\n",
              "      <td>premium</td>\n",
              "      <td>fulfillment</td>\n",
              "      <td>paid_shipping</td>\n",
              "      <td>1440.000000</td>\n",
              "    </tr>\n",
              "    <tr>\n",
              "      <th>3</th>\n",
              "      <td>2886</td>\n",
              "      <td>78385</td>\n",
              "      <td>2021-02-04</td>\n",
              "      <td>3</td>\n",
              "      <td>53.90</td>\n",
              "      <td>REA</td>\n",
              "      <td>premium</td>\n",
              "      <td>fulfillment</td>\n",
              "      <td>paid_shipping</td>\n",
              "      <td>1440.000000</td>\n",
              "    </tr>\n",
              "    <tr>\n",
              "      <th>4</th>\n",
              "      <td>2887</td>\n",
              "      <td>78385</td>\n",
              "      <td>2021-02-05</td>\n",
              "      <td>1</td>\n",
              "      <td>53.90</td>\n",
              "      <td>REA</td>\n",
              "      <td>premium</td>\n",
              "      <td>fulfillment</td>\n",
              "      <td>paid_shipping</td>\n",
              "      <td>1440.000000</td>\n",
              "    </tr>\n",
              "    <tr>\n",
              "      <th>...</th>\n",
              "      <td>...</td>\n",
              "      <td>...</td>\n",
              "      <td>...</td>\n",
              "      <td>...</td>\n",
              "      <td>...</td>\n",
              "      <td>...</td>\n",
              "      <td>...</td>\n",
              "      <td>...</td>\n",
              "      <td>...</td>\n",
              "      <td>...</td>\n",
              "    </tr>\n",
              "    <tr>\n",
              "      <th>1086</th>\n",
              "      <td>165325</td>\n",
              "      <td>352804</td>\n",
              "      <td>2021-02-25</td>\n",
              "      <td>0</td>\n",
              "      <td>26.96</td>\n",
              "      <td>REA</td>\n",
              "      <td>premium</td>\n",
              "      <td>fulfillment</td>\n",
              "      <td>paid_shipping</td>\n",
              "      <td>1440.000000</td>\n",
              "    </tr>\n",
              "    <tr>\n",
              "      <th>1087</th>\n",
              "      <td>165326</td>\n",
              "      <td>352804</td>\n",
              "      <td>2021-02-26</td>\n",
              "      <td>0</td>\n",
              "      <td>26.96</td>\n",
              "      <td>REA</td>\n",
              "      <td>premium</td>\n",
              "      <td>fulfillment</td>\n",
              "      <td>paid_shipping</td>\n",
              "      <td>1440.000000</td>\n",
              "    </tr>\n",
              "    <tr>\n",
              "      <th>1088</th>\n",
              "      <td>165327</td>\n",
              "      <td>352804</td>\n",
              "      <td>2021-02-27</td>\n",
              "      <td>1</td>\n",
              "      <td>26.96</td>\n",
              "      <td>REA</td>\n",
              "      <td>premium</td>\n",
              "      <td>fulfillment</td>\n",
              "      <td>paid_shipping</td>\n",
              "      <td>1440.000000</td>\n",
              "    </tr>\n",
              "    <tr>\n",
              "      <th>1089</th>\n",
              "      <td>165328</td>\n",
              "      <td>352804</td>\n",
              "      <td>2021-02-28</td>\n",
              "      <td>0</td>\n",
              "      <td>26.96</td>\n",
              "      <td>REA</td>\n",
              "      <td>premium</td>\n",
              "      <td>fulfillment</td>\n",
              "      <td>paid_shipping</td>\n",
              "      <td>1440.000000</td>\n",
              "    </tr>\n",
              "    <tr>\n",
              "      <th>1090</th>\n",
              "      <td>165329</td>\n",
              "      <td>352804</td>\n",
              "      <td>2021-03-01</td>\n",
              "      <td>1</td>\n",
              "      <td>26.96</td>\n",
              "      <td>REA</td>\n",
              "      <td>premium</td>\n",
              "      <td>fulfillment</td>\n",
              "      <td>paid_shipping</td>\n",
              "      <td>1407.061117</td>\n",
              "    </tr>\n",
              "  </tbody>\n",
              "</table>\n",
              "<p>551 rows × 10 columns</p>\n",
              "</div>"
            ],
            "text/plain": [
              "      Unnamed: 0     sku  ... shipping_payment  minutes_active\n",
              "0           2883   78385  ...    paid_shipping     1440.000000\n",
              "1           2884   78385  ...    paid_shipping     1440.000000\n",
              "2           2885   78385  ...    paid_shipping     1440.000000\n",
              "3           2886   78385  ...    paid_shipping     1440.000000\n",
              "4           2887   78385  ...    paid_shipping     1440.000000\n",
              "...          ...     ...  ...              ...             ...\n",
              "1086      165325  352804  ...    paid_shipping     1440.000000\n",
              "1087      165326  352804  ...    paid_shipping     1440.000000\n",
              "1088      165327  352804  ...    paid_shipping     1440.000000\n",
              "1089      165328  352804  ...    paid_shipping     1440.000000\n",
              "1090      165329  352804  ...    paid_shipping     1407.061117\n",
              "\n",
              "[551 rows x 10 columns]"
            ]
          },
          "metadata": {
            "tags": []
          },
          "execution_count": 9
        }
      ]
    },
    {
      "cell_type": "code",
      "metadata": {
        "id": "Abp4R2Tkg6pG"
      },
      "source": [
        "#Função para preparar o conjunto de validação\n",
        "def create_validation_set(dataset):\n",
        "  #Definindo a semente\n",
        "  np.random.seed(42)\n",
        "  # realizando a triagem\n",
        "  print('Sorting records...')\n",
        "  # variável ordenada por sku e data\n",
        "  temp_pd = dataset.loc[:, ['sku','date','sold_quantity']].sort_values(['sku','date'])\n",
        "  #realizando o agrupamento da quantidade vendida\n",
        "  print('Grouping quantity...')\n",
        "  #Cria uma var tipo dicionario com a lista de todas as quantidades vendidas por sku\n",
        "  temp_dict = temp_pd.groupby('sku').agg({'sold_quantity':lambda x: [i for i in x]})['sold_quantity'].to_dict()\n",
        "  #cria uma lista em branco\n",
        "  result = []\n",
        "  # percorrendo todos os items do dicionário por id e lista\n",
        "  for idx, list_quantity in tqdm(temp_dict.items(), desc='Making targets...'):\n",
        "    #variável que recebe o valor da soma acumulada da lista.\n",
        "    cumsum = np.array(list_quantity).cumsum()\n",
        "    #[0,0,0,1,2,2,2,5]\n",
        "    \n",
        "    \n",
        "    stock_target = 0\n",
        "    #se o ultimo valor da lista for maior que 0 e o tamanho da lista for igual a 30 faça:\n",
        "    if cumsum[-1] > 0 and (len(cumsum) == 30 or len(cumsum) == 29):\n",
        "      \n",
        "      #Faça enquanto a var for igual a 0\n",
        "      while stock_target == 0:\n",
        "        #var stock_target recebe um valor aleatório de cumsum\n",
        "        stock_target = np.random.choice(cumsum)\n",
        "       \n",
        "      #recebe o primeiro indice onde cumsum é igual ao stock_target e acrecenta 1 pois o indice em python inicia por 0\n",
        "      day_to_stockout = np.argwhere(cumsum == stock_target).min() + 1\n",
        "      #adiciona o resultado a lista.\n",
        "      result.append({'sku':idx, 'target_stock':stock_target, 'inventory_days':day_to_stockout})\n",
        "    #elif cumsum[-1] == 0:#senão existir algum registro sem estoque e sem vendas / sem o elif ele não cria registros sem vendas no mês\n",
        "    #  day_to_stockout = len(cumsum) # adiciona o tamanho da var cumsum, pois são os dias em que não houve venda alguma\n",
        "    #  result.append({'sku':idx, 'target_stock':stock_target, 'inventory_days':day_to_stockout})\n",
        "\n",
        "  return result\n",
        "\n",
        "#val_dataset = create_validation_set(data_val)"
      ],
      "execution_count": 10,
      "outputs": []
    },
    {
      "cell_type": "code",
      "metadata": {
        "id": "nwVXGM4BlvL-"
      },
      "source": [
        ""
      ],
      "execution_count": null,
      "outputs": []
    },
    {
      "cell_type": "code",
      "metadata": {
        "colab": {
          "base_uri": "https://localhost:8080/"
        },
        "id": "HnEzZAPIhfZg",
        "outputId": "1bda09cc-8ab0-4c4f-f803-5c1095d3e397"
      },
      "source": [
        "#Criando o dicionario de validação\n",
        "val_dataset = create_validation_set(data_val)\n",
        "val_dataset"
      ],
      "execution_count": 12,
      "outputs": [
        {
          "output_type": "stream",
          "text": [
            "Sorting records...\n",
            "Grouping quantity...\n"
          ],
          "name": "stdout"
        },
        {
          "output_type": "stream",
          "text": [
            "Making targets...: 100%|██████████| 19/19 [00:00<00:00, 4824.25it/s]\n"
          ],
          "name": "stderr"
        },
        {
          "output_type": "execute_result",
          "data": {
            "text/plain": [
              "[{'inventory_days': 7, 'sku': 60683, 'target_stock': 7},\n",
              " {'inventory_days': 7, 'sku': 74185, 'target_stock': 3},\n",
              " {'inventory_days': 29, 'sku': 78385, 'target_stock': 40},\n",
              " {'inventory_days': 5, 'sku': 136815, 'target_stock': 4},\n",
              " {'inventory_days': 11, 'sku': 158820, 'target_stock': 30},\n",
              " {'inventory_days': 5, 'sku': 182644, 'target_stock': 1},\n",
              " {'inventory_days': 29, 'sku': 183080, 'target_stock': 28},\n",
              " {'inventory_days': 21, 'sku': 302930, 'target_stock': 3},\n",
              " {'inventory_days': 6, 'sku': 347586, 'target_stock': 5},\n",
              " {'inventory_days': 25, 'sku': 358099, 'target_stock': 6},\n",
              " {'inventory_days': 18, 'sku': 414978, 'target_stock': 6},\n",
              " {'inventory_days': 16, 'sku': 546617, 'target_stock': 61},\n",
              " {'inventory_days': 9, 'sku': 590037, 'target_stock': 3},\n",
              " {'inventory_days': 4, 'sku': 596056, 'target_stock': 4},\n",
              " {'inventory_days': 19, 'sku': 619239, 'target_stock': 3},\n",
              " {'inventory_days': 6, 'sku': 621261, 'target_stock': 1}]"
            ]
          },
          "metadata": {
            "tags": []
          },
          "execution_count": 12
        }
      ]
    },
    {
      "cell_type": "code",
      "metadata": {
        "id": "gWP524fxhn-P"
      },
      "source": [
        ""
      ],
      "execution_count": null,
      "outputs": []
    },
    {
      "cell_type": "markdown",
      "metadata": {
        "id": "lEkX0yB9hrPu"
      },
      "source": [
        "# Criando o modelo base de distribuição uniforme"
      ]
    },
    {
      "cell_type": "code",
      "metadata": {
        "colab": {
          "base_uri": "https://localhost:8080/"
        },
        "id": "_5QasS63huf0",
        "outputId": "c581ce21-9018-40a9-9dd1-080586e4ecc5"
      },
      "source": [
        "#Dicionario de validação - resultado do def create_validation_set com o conjunto do mes 3\n",
        "val_dataset"
      ],
      "execution_count": 13,
      "outputs": [
        {
          "output_type": "execute_result",
          "data": {
            "text/plain": [
              "[{'inventory_days': 7, 'sku': 60683, 'target_stock': 7},\n",
              " {'inventory_days': 7, 'sku': 74185, 'target_stock': 3},\n",
              " {'inventory_days': 29, 'sku': 78385, 'target_stock': 40},\n",
              " {'inventory_days': 5, 'sku': 136815, 'target_stock': 4},\n",
              " {'inventory_days': 11, 'sku': 158820, 'target_stock': 30},\n",
              " {'inventory_days': 5, 'sku': 182644, 'target_stock': 1},\n",
              " {'inventory_days': 29, 'sku': 183080, 'target_stock': 28},\n",
              " {'inventory_days': 21, 'sku': 302930, 'target_stock': 3},\n",
              " {'inventory_days': 6, 'sku': 347586, 'target_stock': 5},\n",
              " {'inventory_days': 25, 'sku': 358099, 'target_stock': 6},\n",
              " {'inventory_days': 18, 'sku': 414978, 'target_stock': 6},\n",
              " {'inventory_days': 16, 'sku': 546617, 'target_stock': 61},\n",
              " {'inventory_days': 9, 'sku': 590037, 'target_stock': 3},\n",
              " {'inventory_days': 4, 'sku': 596056, 'target_stock': 4},\n",
              " {'inventory_days': 19, 'sku': 619239, 'target_stock': 3},\n",
              " {'inventory_days': 6, 'sku': 621261, 'target_stock': 1}]"
            ]
          },
          "metadata": {
            "tags": []
          },
          "execution_count": 13
        }
      ]
    },
    {
      "cell_type": "code",
      "metadata": {
        "id": "X5XmxBG6hz8Q"
      },
      "source": [
        "#dias para predição\n",
        "days_to_predict = 30"
      ],
      "execution_count": 14,
      "outputs": []
    },
    {
      "cell_type": "code",
      "metadata": {
        "colab": {
          "base_uri": "https://localhost:8080/"
        },
        "id": "Gn4WtjPljEZe",
        "outputId": "05651ef8-aebd-4dd9-f2a8-0bc9f5cb6dea"
      },
      "source": [
        "#tamanho do dicionario de validação.\n",
        "len(val_dataset)"
      ],
      "execution_count": 15,
      "outputs": [
        {
          "output_type": "execute_result",
          "data": {
            "text/plain": [
              "16"
            ]
          },
          "metadata": {
            "tags": []
          },
          "execution_count": 15
        }
      ]
    },
    {
      "cell_type": "code",
      "metadata": {
        "colab": {
          "base_uri": "https://localhost:8080/"
        },
        "id": "BPRW7kOUjGiH",
        "outputId": "8b356ab2-026c-4f5f-bcbe-3987c694b8ab"
      },
      "source": [
        "#preenchendo a lista com valor = 1 com 30 repetições\n",
        "np.ones(days_to_predict)"
      ],
      "execution_count": 16,
      "outputs": [
        {
          "output_type": "execute_result",
          "data": {
            "text/plain": [
              "array([1., 1., 1., 1., 1., 1., 1., 1., 1., 1., 1., 1., 1., 1., 1., 1., 1.,\n",
              "       1., 1., 1., 1., 1., 1., 1., 1., 1., 1., 1., 1., 1.])"
            ]
          },
          "metadata": {
            "tags": []
          },
          "execution_count": 16
        }
      ]
    },
    {
      "cell_type": "code",
      "metadata": {
        "colab": {
          "base_uri": "https://localhost:8080/"
        },
        "id": "BUA_9H6PjJns",
        "outputId": "a6585588-f185-438b-84f9-35c0a2230047"
      },
      "source": [
        "# Divido o valor 1/30 e arredondo para 4 casas decimais.\n",
        "(np.ones(days_to_predict)/days_to_predict).round(4).tolist()[:5]"
      ],
      "execution_count": 17,
      "outputs": [
        {
          "output_type": "execute_result",
          "data": {
            "text/plain": [
              "[0.0333, 0.0333, 0.0333, 0.0333, 0.0333]"
            ]
          },
          "metadata": {
            "tags": []
          },
          "execution_count": 17
        }
      ]
    },
    {
      "cell_type": "code",
      "metadata": {
        "colab": {
          "base_uri": "https://localhost:8080/"
        },
        "id": "HVTfRy6DjL89",
        "outputId": "2eabf46d-6bc2-4a40-c0c0-3db4a9058640"
      },
      "source": [
        "# cria um array de dimensão 30 com valores = 1 e divide por 30 com 4 casas decimais depois repete a lista pelo tamanho de len(val_dataset) e ao final multiplica pelo tamanho de val_dataset\n",
        "y_pred_uniform = [(np.ones(days_to_predict)/days_to_predict).round(4).tolist()] * len(val_dataset)\n",
        "# basicamente tempo n(val_dataset) com days_to_predict valores iguais a 1/30 round 4.\n",
        "y_pred_uniform[:1] "
      ],
      "execution_count": 18,
      "outputs": [
        {
          "output_type": "execute_result",
          "data": {
            "text/plain": [
              "[[0.0333,\n",
              "  0.0333,\n",
              "  0.0333,\n",
              "  0.0333,\n",
              "  0.0333,\n",
              "  0.0333,\n",
              "  0.0333,\n",
              "  0.0333,\n",
              "  0.0333,\n",
              "  0.0333,\n",
              "  0.0333,\n",
              "  0.0333,\n",
              "  0.0333,\n",
              "  0.0333,\n",
              "  0.0333,\n",
              "  0.0333,\n",
              "  0.0333,\n",
              "  0.0333,\n",
              "  0.0333,\n",
              "  0.0333,\n",
              "  0.0333,\n",
              "  0.0333,\n",
              "  0.0333,\n",
              "  0.0333,\n",
              "  0.0333,\n",
              "  0.0333,\n",
              "  0.0333,\n",
              "  0.0333,\n",
              "  0.0333,\n",
              "  0.0333]]"
            ]
          },
          "metadata": {
            "tags": []
          },
          "execution_count": 18
        }
      ]
    },
    {
      "cell_type": "code",
      "metadata": {
        "colab": {
          "base_uri": "https://localhost:8080/"
        },
        "id": "bLeXWbunjTAE",
        "outputId": "7c970c3a-acda-432e-c2f4-2d24c8e1f71c"
      },
      "source": [
        "range(1,days_to_predict+1) # Cria o nome das colunas de 1 a 31 que são a repesentação dos dias"
      ],
      "execution_count": 19,
      "outputs": [
        {
          "output_type": "execute_result",
          "data": {
            "text/plain": [
              "range(1, 31)"
            ]
          },
          "metadata": {
            "tags": []
          },
          "execution_count": 19
        }
      ]
    },
    {
      "cell_type": "code",
      "metadata": {
        "id": "Vf8PAzDsjWeu"
      },
      "source": [
        "# Convertendo a variável em df pandas, esse será nossa variável de predição.\n",
        "base_model = pd.DataFrame(y_pred_uniform, columns=range(1,days_to_predict+1))\n",
        "# aqui temos nossa base com o tamanho e com os dias já divididos em partes iguais."
      ],
      "execution_count": 21,
      "outputs": []
    },
    {
      "cell_type": "code",
      "metadata": {
        "id": "ualASPQsjhQ2"
      },
      "source": [
        "#Salvando o modelo base no formato correto para submissão!\n",
        "pd.DataFrame(base_model).round(4).to_csv(\"base_model.csv.gz\", header=False, index=False, compression=\"gzip\")"
      ],
      "execution_count": 22,
      "outputs": []
    },
    {
      "cell_type": "code",
      "metadata": {
        "colab": {
          "base_uri": "https://localhost:8080/",
          "height": 204
        },
        "id": "TPcpGbUGjkUX",
        "outputId": "eaeff2b5-36eb-42e6-a210-4bdc1d1a9a59"
      },
      "source": [
        "#verificando se o arquivo foi salvo corretamente\n",
        "pd.read_csv('base_model.csv.gz', header=None).head()"
      ],
      "execution_count": 23,
      "outputs": [
        {
          "output_type": "execute_result",
          "data": {
            "text/html": [
              "<div>\n",
              "<style scoped>\n",
              "    .dataframe tbody tr th:only-of-type {\n",
              "        vertical-align: middle;\n",
              "    }\n",
              "\n",
              "    .dataframe tbody tr th {\n",
              "        vertical-align: top;\n",
              "    }\n",
              "\n",
              "    .dataframe thead th {\n",
              "        text-align: right;\n",
              "    }\n",
              "</style>\n",
              "<table border=\"1\" class=\"dataframe\">\n",
              "  <thead>\n",
              "    <tr style=\"text-align: right;\">\n",
              "      <th></th>\n",
              "      <th>0</th>\n",
              "      <th>1</th>\n",
              "      <th>2</th>\n",
              "      <th>3</th>\n",
              "      <th>4</th>\n",
              "      <th>5</th>\n",
              "      <th>6</th>\n",
              "      <th>7</th>\n",
              "      <th>8</th>\n",
              "      <th>9</th>\n",
              "      <th>10</th>\n",
              "      <th>11</th>\n",
              "      <th>12</th>\n",
              "      <th>13</th>\n",
              "      <th>14</th>\n",
              "      <th>15</th>\n",
              "      <th>16</th>\n",
              "      <th>17</th>\n",
              "      <th>18</th>\n",
              "      <th>19</th>\n",
              "      <th>20</th>\n",
              "      <th>21</th>\n",
              "      <th>22</th>\n",
              "      <th>23</th>\n",
              "      <th>24</th>\n",
              "      <th>25</th>\n",
              "      <th>26</th>\n",
              "      <th>27</th>\n",
              "      <th>28</th>\n",
              "      <th>29</th>\n",
              "    </tr>\n",
              "  </thead>\n",
              "  <tbody>\n",
              "    <tr>\n",
              "      <th>0</th>\n",
              "      <td>0.0333</td>\n",
              "      <td>0.0333</td>\n",
              "      <td>0.0333</td>\n",
              "      <td>0.0333</td>\n",
              "      <td>0.0333</td>\n",
              "      <td>0.0333</td>\n",
              "      <td>0.0333</td>\n",
              "      <td>0.0333</td>\n",
              "      <td>0.0333</td>\n",
              "      <td>0.0333</td>\n",
              "      <td>0.0333</td>\n",
              "      <td>0.0333</td>\n",
              "      <td>0.0333</td>\n",
              "      <td>0.0333</td>\n",
              "      <td>0.0333</td>\n",
              "      <td>0.0333</td>\n",
              "      <td>0.0333</td>\n",
              "      <td>0.0333</td>\n",
              "      <td>0.0333</td>\n",
              "      <td>0.0333</td>\n",
              "      <td>0.0333</td>\n",
              "      <td>0.0333</td>\n",
              "      <td>0.0333</td>\n",
              "      <td>0.0333</td>\n",
              "      <td>0.0333</td>\n",
              "      <td>0.0333</td>\n",
              "      <td>0.0333</td>\n",
              "      <td>0.0333</td>\n",
              "      <td>0.0333</td>\n",
              "      <td>0.0333</td>\n",
              "    </tr>\n",
              "    <tr>\n",
              "      <th>1</th>\n",
              "      <td>0.0333</td>\n",
              "      <td>0.0333</td>\n",
              "      <td>0.0333</td>\n",
              "      <td>0.0333</td>\n",
              "      <td>0.0333</td>\n",
              "      <td>0.0333</td>\n",
              "      <td>0.0333</td>\n",
              "      <td>0.0333</td>\n",
              "      <td>0.0333</td>\n",
              "      <td>0.0333</td>\n",
              "      <td>0.0333</td>\n",
              "      <td>0.0333</td>\n",
              "      <td>0.0333</td>\n",
              "      <td>0.0333</td>\n",
              "      <td>0.0333</td>\n",
              "      <td>0.0333</td>\n",
              "      <td>0.0333</td>\n",
              "      <td>0.0333</td>\n",
              "      <td>0.0333</td>\n",
              "      <td>0.0333</td>\n",
              "      <td>0.0333</td>\n",
              "      <td>0.0333</td>\n",
              "      <td>0.0333</td>\n",
              "      <td>0.0333</td>\n",
              "      <td>0.0333</td>\n",
              "      <td>0.0333</td>\n",
              "      <td>0.0333</td>\n",
              "      <td>0.0333</td>\n",
              "      <td>0.0333</td>\n",
              "      <td>0.0333</td>\n",
              "    </tr>\n",
              "    <tr>\n",
              "      <th>2</th>\n",
              "      <td>0.0333</td>\n",
              "      <td>0.0333</td>\n",
              "      <td>0.0333</td>\n",
              "      <td>0.0333</td>\n",
              "      <td>0.0333</td>\n",
              "      <td>0.0333</td>\n",
              "      <td>0.0333</td>\n",
              "      <td>0.0333</td>\n",
              "      <td>0.0333</td>\n",
              "      <td>0.0333</td>\n",
              "      <td>0.0333</td>\n",
              "      <td>0.0333</td>\n",
              "      <td>0.0333</td>\n",
              "      <td>0.0333</td>\n",
              "      <td>0.0333</td>\n",
              "      <td>0.0333</td>\n",
              "      <td>0.0333</td>\n",
              "      <td>0.0333</td>\n",
              "      <td>0.0333</td>\n",
              "      <td>0.0333</td>\n",
              "      <td>0.0333</td>\n",
              "      <td>0.0333</td>\n",
              "      <td>0.0333</td>\n",
              "      <td>0.0333</td>\n",
              "      <td>0.0333</td>\n",
              "      <td>0.0333</td>\n",
              "      <td>0.0333</td>\n",
              "      <td>0.0333</td>\n",
              "      <td>0.0333</td>\n",
              "      <td>0.0333</td>\n",
              "    </tr>\n",
              "    <tr>\n",
              "      <th>3</th>\n",
              "      <td>0.0333</td>\n",
              "      <td>0.0333</td>\n",
              "      <td>0.0333</td>\n",
              "      <td>0.0333</td>\n",
              "      <td>0.0333</td>\n",
              "      <td>0.0333</td>\n",
              "      <td>0.0333</td>\n",
              "      <td>0.0333</td>\n",
              "      <td>0.0333</td>\n",
              "      <td>0.0333</td>\n",
              "      <td>0.0333</td>\n",
              "      <td>0.0333</td>\n",
              "      <td>0.0333</td>\n",
              "      <td>0.0333</td>\n",
              "      <td>0.0333</td>\n",
              "      <td>0.0333</td>\n",
              "      <td>0.0333</td>\n",
              "      <td>0.0333</td>\n",
              "      <td>0.0333</td>\n",
              "      <td>0.0333</td>\n",
              "      <td>0.0333</td>\n",
              "      <td>0.0333</td>\n",
              "      <td>0.0333</td>\n",
              "      <td>0.0333</td>\n",
              "      <td>0.0333</td>\n",
              "      <td>0.0333</td>\n",
              "      <td>0.0333</td>\n",
              "      <td>0.0333</td>\n",
              "      <td>0.0333</td>\n",
              "      <td>0.0333</td>\n",
              "    </tr>\n",
              "    <tr>\n",
              "      <th>4</th>\n",
              "      <td>0.0333</td>\n",
              "      <td>0.0333</td>\n",
              "      <td>0.0333</td>\n",
              "      <td>0.0333</td>\n",
              "      <td>0.0333</td>\n",
              "      <td>0.0333</td>\n",
              "      <td>0.0333</td>\n",
              "      <td>0.0333</td>\n",
              "      <td>0.0333</td>\n",
              "      <td>0.0333</td>\n",
              "      <td>0.0333</td>\n",
              "      <td>0.0333</td>\n",
              "      <td>0.0333</td>\n",
              "      <td>0.0333</td>\n",
              "      <td>0.0333</td>\n",
              "      <td>0.0333</td>\n",
              "      <td>0.0333</td>\n",
              "      <td>0.0333</td>\n",
              "      <td>0.0333</td>\n",
              "      <td>0.0333</td>\n",
              "      <td>0.0333</td>\n",
              "      <td>0.0333</td>\n",
              "      <td>0.0333</td>\n",
              "      <td>0.0333</td>\n",
              "      <td>0.0333</td>\n",
              "      <td>0.0333</td>\n",
              "      <td>0.0333</td>\n",
              "      <td>0.0333</td>\n",
              "      <td>0.0333</td>\n",
              "      <td>0.0333</td>\n",
              "    </tr>\n",
              "  </tbody>\n",
              "</table>\n",
              "</div>"
            ],
            "text/plain": [
              "       0       1       2       3   ...      26      27      28      29\n",
              "0  0.0333  0.0333  0.0333  0.0333  ...  0.0333  0.0333  0.0333  0.0333\n",
              "1  0.0333  0.0333  0.0333  0.0333  ...  0.0333  0.0333  0.0333  0.0333\n",
              "2  0.0333  0.0333  0.0333  0.0333  ...  0.0333  0.0333  0.0333  0.0333\n",
              "3  0.0333  0.0333  0.0333  0.0333  ...  0.0333  0.0333  0.0333  0.0333\n",
              "4  0.0333  0.0333  0.0333  0.0333  ...  0.0333  0.0333  0.0333  0.0333\n",
              "\n",
              "[5 rows x 30 columns]"
            ]
          },
          "metadata": {
            "tags": []
          },
          "execution_count": 23
        }
      ]
    },
    {
      "cell_type": "markdown",
      "metadata": {
        "id": "xaE_QTj7jn1E"
      },
      "source": [
        "* Temos nosso modelo base uniforme preparado agora vamos criar uma função para calcular o RPS score.\n"
      ]
    },
    {
      "cell_type": "markdown",
      "metadata": {
        "id": "n9Fz_pgRj3gz"
      },
      "source": [
        "# Função Ranked Probability Score (RPS):"
      ]
    },
    {
      "cell_type": "code",
      "metadata": {
        "id": "7iJ40Bgmj-kT"
      },
      "source": [
        "def ranked_probability_score(y_true, y_pred):\n",
        "  \"\"\"\n",
        "  Input\n",
        "      y_true: np.array of shape 30.\n",
        "      y_pred: np.array of shape 30.\n",
        "  \"\"\"\n",
        "  #subtração de coluna por coluna entre os conjuntos de validação - predição \n",
        "  #Ele o resultado ao quadrado para remover valores negativos;\n",
        "  #Soma de todos os valores seguido da média\n",
        "  #Resultado do rps.\n",
        "  return ((y_true.cumsum(axis= 1) - y_pred.cumsum(axis= 1))**2).sum(axis= 1).mean()\n",
        "\n",
        "def scoring_funcion(y_true, y_pred):\n",
        "  \"\"\"\n",
        "  Input\n",
        "      y_true: List of ints of shape Nx1. Contain the target_stock\n",
        "      y_pred: List of float of shape Nx30. Contain the prob for each day\n",
        "  \"\"\"\n",
        "  #y_val de validação que nada mais é que aleatóriamente o tempo que levou em dias para meu estoque se esgotar.\n",
        "  y_true = np.array(y_true)\n",
        "  #y_pred array com o tamnho dos skus e dos dias para com os valores divididos de forma homogenea.\n",
        "  y_pred = np.array(y_pred)\n",
        "  #cria n arrays(y_pred) com valores igual 0 nesse caso 16x30 tipo float\n",
        "  y_true_one_hot = np.zeros_like(y_pred, dtype = np.float)\n",
        "  #em um range de tamanho y_true(0,16) na posição onde o valor de y_true-1 adicione o valor 1\n",
        "  #basicamente aqui ele faz uma marcação com 1 que corresponde ao número mínimo de dias que o produto ficou em estoque\n",
        "  y_true_one_hot[range(len(y_true)), y_true - 1] = 1\n",
        "  return ranked_probability_score(y_true_one_hot, y_pred)"
      ],
      "execution_count": 24,
      "outputs": []
    },
    {
      "cell_type": "code",
      "metadata": {
        "colab": {
          "base_uri": "https://localhost:8080/"
        },
        "id": "KJbx4JYjkFX-",
        "outputId": "6b9cbae8-32d1-4993-ad8c-ebb5751af230"
      },
      "source": [
        "# Variável que recebe o valor de inventory_days do dic val_dataset.\n",
        "y_true_val = [x['inventory_days'] for x in val_dataset]\n",
        "y_true_val"
      ],
      "execution_count": 25,
      "outputs": [
        {
          "output_type": "execute_result",
          "data": {
            "text/plain": [
              "[7, 7, 29, 5, 11, 5, 29, 21, 6, 25, 18, 16, 9, 4, 19, 6]"
            ]
          },
          "metadata": {
            "tags": []
          },
          "execution_count": 25
        }
      ]
    },
    {
      "cell_type": "code",
      "metadata": {
        "colab": {
          "base_uri": "https://localhost:8080/"
        },
        "id": "iQxe3kBAkMsR",
        "outputId": "c4d9145f-0cd2-41e2-b53e-66807262d497"
      },
      "source": [
        "#chamando a função RPS com a validação e nossa predição de distribuição uniforme\n",
        "uniform_score = scoring_funcion(y_true_val, y_pred_uniform)\n",
        "print('Uniform model got a validation RPS of:', uniform_score)\n",
        "#no quadro da leaderbord obteve uma pontuação de 5,07 e na nossa amostragem obteve 5.09\n",
        "# 5.7848 resultado ao incluir registros com 0 de vendas"
      ],
      "execution_count": 26,
      "outputs": [
        {
          "output_type": "stream",
          "text": [
            "Uniform model got a validation RPS of: 5.09074245\n"
          ],
          "name": "stdout"
        }
      ]
    }
  ]
}